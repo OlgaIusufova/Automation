{
 "cells": [
  {
   "cell_type": "markdown",
   "id": "c5c840c8",
   "metadata": {},
   "source": [
    "# Project description\n",
    "## Building a Data Pipelines for the Sterling & Draper advertising agency\n",
    "\n",
    "You work as a video ad analyst at the Sterling & Draper advertising agency. You devote a lot of time to analyzing trending videos on YouTube to determine what content deserves marketing attention.<br>\n",
    "Each video has a specific category (Entertainment, Music, News & Politics, etc.), region, and trending date.<br>\n",
    "A video can be in the trending section for several days in a row.\n",
    "*Every week, the new employees Melanie and Ashok ask you the same questions:*\n",
    "- What video categories were trending last week?\n",
    "- How were they distributed among various regions?\n",
    "- What categories were especially popular in the United States? <br>\n",
    "\n",
    "In your sixth week on the job, you decide that it's high time the process were automated. You're going to make a dashboard for Melanie and Ashok.\n",
    "\n",
    "After talking to the managers and database administrators, you've drawn up brief technical requirements:<br>\n",
    "- Business goal: analyze trending-video history on YouTube\n",
    "- How often the dashboard will be used: at least once a day\n",
    "- Target dashboard user: video ads planning managers\n",
    "- Dashboard data content:\n",
    "  - Trending videos from the past, broken down by day and category\n",
    "  - Trending videos, broken down by countries\n",
    "  - A table of correspondence between categories and countries\n",
    "- Parameters according to which the data is to be grouped:\n",
    "  - Trending date and time\n",
    "  - Video category\n",
    "  - Country\n",
    "- The data:\n",
    "  - Trending history — absolute values with a breakdown by day (two graphs: absolute numbers and percentage ratio)\n",
    "  - Events, broken down by countries — relative values (% of events)\n",
    "  - The correspondence between the categories and countries — absolute values (a table)\n",
    "- Importance: all graphs are equally important\n",
    "- Data sources for the dashboard: the data engineers promised to create an aggregate table called ```trending_by_time```. Here's its structure:\n",
    "  - ```record_id``` — primary key\n",
    "  - ```region``` — country/geographical region\n",
    "  - ```trending_date``` — date and time\n",
    "  - ```category_title``` — the video category\n",
    "  - ```videos_count``` — the number of videos in the trending section\n",
    "- The table is stored in the data-analyst-youtube-data. database, which was created especially for your needs\n",
    "- Data update interval: once every 24 hours, at midnight UTC\n"
   ]
  },
  {
   "cell_type": "code",
   "execution_count": 1,
   "id": "9c91b388",
   "metadata": {},
   "outputs": [],
   "source": [
    "%%capture\n",
    "!pip install SQLAlchemy\n",
    "!pip install --upgrade SQLAlchemy\n",
    "!python -m pip install psycopg2-binary "
   ]
  },
  {
   "cell_type": "code",
   "execution_count": 2,
   "id": "cfb38dc3",
   "metadata": {},
   "outputs": [],
   "source": [
    "import pandas as pd\n",
    "from sqlalchemy import create_engine\n"
   ]
  },
  {
   "cell_type": "code",
   "execution_count": 7,
   "id": "6f4ac38b",
   "metadata": {
    "pycharm": {
     "name": "#%%\n"
    }
   },
   "outputs": [
    {
     "name": "stdout",
     "output_type": "stream",
     "text": [
      "           region trending_date    category_title  videos_count\n",
      "record_id                                                      \n",
      "1          France    2017-11-14  Autos & Vehicles             8\n",
      "2          France    2017-11-15  Autos & Vehicles             2\n",
      "3          France    2017-11-16  Autos & Vehicles             6\n",
      "4          France    2017-11-17  Autos & Vehicles             8\n",
      "5          France    2017-11-18  Autos & Vehicles             4\n"
     ]
    }
   ],
   "source": [
    "# sample code for connecting to the database with PostgreSQL\n",
    "\n",
    "db_config = {'user': 'practicum_student',         # username\n",
    "             'pwd': 's65BlTKV3faNIGhmvJVzOqhs', # password\n",
    "             'host': 'rc1b-wcoijxj3yxfsf3fs.mdb.yandexcloud.net',       # server address\n",
    "             'port': 6432,              # connection port\n",
    "             'db': 'data-analyst-youtube-data'}             # database name\n",
    "\n",
    "# Creating the database connection string. \n",
    "connection_string = 'postgresql://{}:{}@{}:{}/{}'.format(db_config['user'], \n",
    "                                                         db_config['pwd'], \n",
    "                                                         db_config['host'], \n",
    "                                                         db_config['port'], \n",
    "                                                         db_config['db'])\n",
    "# Connecting to the database.\n",
    "engine = create_engine(connection_string)\n",
    "\n",
    "# Creating an SQL query.\n",
    "query = ''' SELECT *\n",
    "            FROM trending_by_time\n",
    "        '''\n",
    "\n",
    "trending_by_time = pd.io.sql.read_sql(query, con=engine, index_col = 'record_id')\n",
    "\n",
    "trending_by_time.to_csv('/Users/olga/Downloads/trending_by_time.csv', index = False)\n",
    "\n",
    "print(trending_by_time.head(5))\n",
    "\n"
   ]
  }
 ],
 "metadata": {
  "kernelspec": {
   "display_name": "Python 3",
   "language": "python",
   "name": "python3"
  },
  "language_info": {
   "codemirror_mode": {
    "name": "ipython",
    "version": 3
   },
   "file_extension": ".py",
   "mimetype": "text/x-python",
   "name": "python",
   "nbconvert_exporter": "python",
   "pygments_lexer": "ipython3",
   "version": "3.8.8"
  }
 },
 "nbformat": 4,
 "nbformat_minor": 5
}